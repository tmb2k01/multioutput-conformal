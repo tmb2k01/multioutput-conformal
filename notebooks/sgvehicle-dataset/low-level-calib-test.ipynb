{
 "cells": [
  {
   "cell_type": "code",
   "execution_count": 1,
   "id": "6ccb8938",
   "metadata": {},
   "outputs": [],
   "source": [
    "import json\n",
    "import numpy as np\n",
    "import torch\n",
    "from tqdm import tqdm\n",
    "\n",
    "from src.models.low_level_model import LowLevelModel\n",
    "from src.data.multi_output_dataset import MultiOutputDataModule\n",
    "from src.calibration.nonconformity_functions import NONCONFORMITY_FN_DIC\n",
    "from src.calibration.calibration import CALIBRATION_FN_LOW_DIC\n",
    "from src.models.conformal_prediction import standard_prediction, clustered_prediction\n",
    "from src.metrics import compute_efficiency, compute_informativeness, compute_covgap"
   ]
  },
  {
   "cell_type": "code",
   "execution_count": 2,
   "id": "df50e660",
   "metadata": {},
   "outputs": [],
   "source": [
    "SGVEHICLE_CLASSES = [12, 11]\n",
    "\n",
    "device = torch.device(\"cuda\" if torch.cuda.is_available() else \"cpu\")"
   ]
  },
  {
   "cell_type": "code",
   "execution_count": 3,
   "id": "eb8cc102",
   "metadata": {},
   "outputs": [],
   "source": [
    "model = LowLevelModel.load_from_checkpoint(\n",
    "    \"models/sgvehicle-low-level-model.ckpt\",\n",
    "    task_num_classes=SGVEHICLE_CLASSES,\n",
    "    map_location=device,\n",
    ")\n",
    "model = model.eval()\n",
    "\n",
    "data = MultiOutputDataModule(\n",
    "    root_dir=\"data/SGVehicle\", batch_size=64, num_workers=0, task_num_classes=SGVEHICLE_CLASSES\n",
    ")\n",
    "data.setup()"
   ]
  },
  {
   "cell_type": "code",
   "execution_count": 4,
   "id": "a72d00e3",
   "metadata": {},
   "outputs": [],
   "source": [
    "with open(\"models/sgvehicle-low-level-calibration.json\", \"r\") as file:\n",
    "    calibration_data = json.load(file)"
   ]
  },
  {
   "cell_type": "code",
   "execution_count": 5,
   "id": "0a7afd3c",
   "metadata": {},
   "outputs": [],
   "source": [
    "def generate_predictions(model: LowLevelModel, dataloader: MultiOutputDataModule):\n",
    "    y_preds = []\n",
    "    y_trues = []\n",
    "\n",
    "    for batch in tqdm(dataloader):\n",
    "        x, y = batch[0].to(device), batch[1].to(device)\n",
    "        with torch.no_grad():\n",
    "            pred = model.predict_step((x, y), 0)  # (B, C)\n",
    "\n",
    "        y_preds.append(pred.cpu().numpy())\n",
    "        y_trues.append(model.encode_targets(y).cpu().numpy())\n",
    "\n",
    "    y_preds = np.concatenate(y_preds, axis=0)\n",
    "    y_trues = np.concatenate(y_trues, axis=0)\n",
    "    return y_preds, y_trues"
   ]
  },
  {
   "cell_type": "code",
   "execution_count": 6,
   "id": "02ce3c87",
   "metadata": {},
   "outputs": [],
   "source": [
    "def test_calibration_from_preds(\n",
    "    y_preds: np.ndarray,\n",
    "    y_trues: np.ndarray,\n",
    "    nonconformity_fn: str,\n",
    "    calibration_type: str,\n",
    "    calibration_data: dict,\n",
    "    alpha: float = 0.05,\n",
    "):\n",
    "    \"\"\"\n",
    "    Evaluate conformal calibration using precomputed predictions for multi-task classification.\n",
    "\n",
    "    This function computes nonconformity scores, applies the specified conformal calibration\n",
    "    method, and evaluates prediction sets based on coverage, efficiency, and informativeness.\n",
    "\n",
    "    Args:\n",
    "        y_preds (list): List of B samples, each is a list of T tensors/logits of shape (C_t,).\n",
    "        y_trues (list): List of B samples, each is a list of T true labels (ints).\n",
    "        nonconformity_fn (str): Name of the nonconformity function to use (e.g., 'hinge', 'margin').\n",
    "        calibration_type (str): Type of calibration to apply ('scp_task_thresholds', 'ccp_cluster_thresholds', etc.).\n",
    "        calibration_data (dict): Dictionary containing thresholds or cluster mappings for each method.\n",
    "\n",
    "    Returns:\n",
    "        None: Prints taskwise and overall coverage, efficiency, and informativeness statistics.\n",
    "    \"\"\"\n",
    "\n",
    "    B = len(y_preds)\n",
    "    C = len(y_preds[0])  # Number of classes\n",
    "    nonconformity_scores = NONCONFORMITY_FN_DIC[nonconformity_fn](y_preds)\n",
    "\n",
    "    clustered = \"cluster\" in calibration_type\n",
    "    prediction = (\n",
    "        clustered_prediction(\n",
    "            nonconformity_scores,\n",
    "            calibration_data[nonconformity_fn][calibration_type],\n",
    "        )\n",
    "        if clustered\n",
    "        else standard_prediction(\n",
    "            nonconformity_scores,\n",
    "            calibration_data[nonconformity_fn][calibration_type],\n",
    "        )\n",
    "    )\n",
    "\n",
    "    in_it = 0\n",
    "    for i in range(B):\n",
    "        if y_trues[i] in prediction[i]:\n",
    "            in_it += 1\n",
    "\n",
    "    efficiency = compute_efficiency(prediction)\n",
    "    informativeness = compute_informativeness(prediction)\n",
    "    covgap = compute_covgap(prediction, y_trues, C, alpha)\n",
    "\n",
    "    # Reporting\n",
    "    print(f\"Accuracy: {in_it} / {B} = {in_it / B:.2%}\")\n",
    "    print(f\"Efficiency: {efficiency:.4f}\")\n",
    "    print(f\"Informativeness: {informativeness:.4f}\")\n",
    "    print(f\"Coverage Gap: {covgap:.4f}\")"
   ]
  },
  {
   "cell_type": "code",
   "execution_count": 7,
   "id": "feea1630",
   "metadata": {},
   "outputs": [
    {
     "name": "stderr",
     "output_type": "stream",
     "text": [
      "100%|██████████| 76/76 [01:59<00:00,  1.58s/it]\n"
     ]
    }
   ],
   "source": [
    "y_preds, y_trues = generate_predictions(model, data.test_dataloader())"
   ]
  },
  {
   "cell_type": "code",
   "execution_count": 8,
   "id": "38a370be",
   "metadata": {},
   "outputs": [
    {
     "name": "stdout",
     "output_type": "stream",
     "text": [
      "-------------------------------------------------\n",
      "Nonconformity function: hinge\n",
      "-------------------------------------------------\n",
      "Calibration type: scp_global_threshold\n",
      "Accuracy: 4550 / 4812 = 94.56%\n",
      "Efficiency: 3.9933\n",
      "Informativeness: 0.0690\n",
      "Coverage Gap: 8.0298\n",
      "-------------------------------------------------\n",
      "Calibration type: ccp_class_thresholds\n",
      "Accuracy: 4620 / 4812 = 96.01%\n",
      "Efficiency: 59.2271\n",
      "Informativeness: 0.0000\n",
      "Coverage Gap: 4.0603\n",
      "-------------------------------------------------\n",
      "Calibration type: ccp_global_clusters\n",
      "Accuracy: 4583 / 4812 = 95.24%\n",
      "Efficiency: 5.1789\n",
      "Informativeness: 0.0590\n",
      "Coverage Gap: 5.7483\n",
      "-------------------------------------------------\n",
      "Nonconformity function: margin\n",
      "-------------------------------------------------\n",
      "Calibration type: scp_global_threshold\n",
      "Accuracy: 4581 / 4812 = 95.20%\n",
      "Efficiency: 69.3007\n",
      "Informativeness: 0.3082\n",
      "Coverage Gap: 5.9083\n",
      "-------------------------------------------------\n",
      "Calibration type: ccp_class_thresholds\n",
      "Accuracy: 4626 / 4812 = 96.13%\n",
      "Efficiency: 98.6881\n",
      "Informativeness: 0.0000\n",
      "Coverage Gap: 4.1401\n",
      "-------------------------------------------------\n",
      "Calibration type: ccp_global_clusters\n",
      "Accuracy: 4599 / 4812 = 95.57%\n",
      "Efficiency: 79.3803\n",
      "Informativeness: 0.0478\n",
      "Coverage Gap: 4.7401\n",
      "-------------------------------------------------\n",
      "Nonconformity function: pip\n",
      "-------------------------------------------------\n",
      "Calibration type: scp_global_threshold\n",
      "Accuracy: 4578 / 4812 = 95.14%\n",
      "Efficiency: 52.1937\n",
      "Informativeness: 0.2787\n",
      "Coverage Gap: 5.9843\n",
      "-------------------------------------------------\n",
      "Calibration type: ccp_class_thresholds\n",
      "Accuracy: 4639 / 4812 = 96.40%\n",
      "Efficiency: 91.2103\n",
      "Informativeness: 0.0000\n",
      "Coverage Gap: 3.8864\n",
      "-------------------------------------------------\n",
      "Calibration type: ccp_global_clusters\n",
      "Accuracy: 4608 / 4812 = 95.76%\n",
      "Efficiency: 67.0085\n",
      "Informativeness: 0.0663\n",
      "Coverage Gap: 4.5129\n"
     ]
    }
   ],
   "source": [
    "for nonconformity_fn in NONCONFORMITY_FN_DIC.keys():\n",
    "    print(\"-------------------------------------------------\")\n",
    "    print(f\"Nonconformity function: {nonconformity_fn}\")\n",
    "    for calibration_type in CALIBRATION_FN_LOW_DIC.keys():\n",
    "        print(\"-------------------------------------------------\")\n",
    "        print(f\"Calibration type: {calibration_type}\")\n",
    "        test_calibration_from_preds(\n",
    "            y_preds,\n",
    "            y_trues,\n",
    "            nonconformity_fn,\n",
    "            calibration_type,\n",
    "            calibration_data\n",
    "        )"
   ]
  }
 ],
 "metadata": {
  "kernelspec": {
   "display_name": ".venv (3.12.3)",
   "language": "python",
   "name": "python3"
  },
  "language_info": {
   "codemirror_mode": {
    "name": "ipython",
    "version": 3
   },
   "file_extension": ".py",
   "mimetype": "text/x-python",
   "name": "python",
   "nbconvert_exporter": "python",
   "pygments_lexer": "ipython3",
   "version": "3.12.3"
  }
 },
 "nbformat": 4,
 "nbformat_minor": 5
}
